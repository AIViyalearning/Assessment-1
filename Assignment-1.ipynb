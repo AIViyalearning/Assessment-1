{
 "cells": [
  {
   "cell_type": "code",
   "execution_count": 8,
   "id": "6fa1d3f0-9f42-4e0b-abdb-708eb4b21485",
   "metadata": {},
   "outputs": [
    {
     "name": "stdout",
     "output_type": "stream",
     "text": [
      "Welcome to Assignment-1\n"
     ]
    }
   ],
   "source": [
    "print(\"Welcome to Assignment-1\")"
   ]
  },
  {
   "cell_type": "code",
   "execution_count": 11,
   "id": "3ca56b76-684a-4c25-8939-66e737cae15a",
   "metadata": {},
   "outputs": [
    {
     "name": "stdout",
     "output_type": "stream",
     "text": [
      "Addition of two numbers: 30\n"
     ]
    }
   ],
   "source": [
    "Num1=10\n",
    "Num2=20\n",
    "add=Num1+Num2\n",
    "print(\"Addition of two numbers:\", add)"
   ]
  },
  {
   "cell_type": "code",
   "execution_count": 13,
   "id": "3040e7a2-885b-4091-8cb9-f2edffe888a5",
   "metadata": {},
   "outputs": [
    {
     "name": "stdout",
     "output_type": "stream",
     "text": [
      "Hope AI\n"
     ]
    }
   ],
   "source": [
    "print(\"Hope AI\")"
   ]
  },
  {
   "cell_type": "code",
   "execution_count": 27,
   "id": "3219e8bb-d696-4449-8561-af2f1be5982c",
   "metadata": {},
   "outputs": [
    {
     "name": "stdin",
     "output_type": "stream",
     "text": [
      "Enter your intitute name: Hope AI\n"
     ]
    },
    {
     "name": "stdout",
     "output_type": "stream",
     "text": [
      "\n"
     ]
    }
   ],
   "source": [
    "name=input(\"Enter your intitute name:\")\n",
    "print()"
   ]
  },
  {
   "cell_type": "code",
   "execution_count": 29,
   "id": "162e3dab-6950-44e0-bdb4-805cfc8cbb35",
   "metadata": {},
   "outputs": [
    {
     "name": "stdin",
     "output_type": "stream",
     "text": [
      "Enter your name: Viyakula Mary.A\n"
     ]
    },
    {
     "name": "stdout",
     "output_type": "stream",
     "text": [
      "\n"
     ]
    },
    {
     "name": "stdin",
     "output_type": "stream",
     "text": [
      "Enter your Age: 49\n"
     ]
    },
    {
     "name": "stdout",
     "output_type": "stream",
     "text": [
      "\n"
     ]
    },
    {
     "name": "stdin",
     "output_type": "stream",
     "text": [
      "Enter your school name: Shayarani GHSSS\n"
     ]
    },
    {
     "name": "stdout",
     "output_type": "stream",
     "text": [
      "\n"
     ]
    },
    {
     "name": "stdin",
     "output_type": "stream",
     "text": [
      "Enter your Degree: M.Sc(CS),M.Sc(Psy),MBA\n"
     ]
    },
    {
     "name": "stdout",
     "output_type": "stream",
     "text": [
      "\n"
     ]
    }
   ],
   "source": [
    "# Buy Inputs\n",
    "name=input(\"Enter your name:\")\n",
    "print()\n",
    "age=int(input(\"Enter your Age:\"))\n",
    "print()\n",
    "school=input(\"Enter your school name:\")\n",
    "print()\n",
    "degree=input(\"Enter your Degree:\")\n",
    "print()"
   ]
  },
  {
   "cell_type": "code",
   "execution_count": 39,
   "id": "1fd1bc82-77b7-4c34-9449-e3038e58d2fb",
   "metadata": {},
   "outputs": [
    {
     "name": "stdout",
     "output_type": "stream",
     "text": [
      "A= 43\n",
      "B= 34\n",
      "Addition= 77\n"
     ]
    }
   ],
   "source": [
    "# Addition\n",
    "a=43\n",
    "b=34\n",
    "add=a+b\n",
    "print(\"A=\",a)\n",
    "print(\"B=\",b)\n",
    "print(\"Addition=\",add)"
   ]
  },
  {
   "cell_type": "code",
   "execution_count": 43,
   "id": "93ea8b5d-5396-4e0c-9d5a-876a3a65fd38",
   "metadata": {},
   "outputs": [
    {
     "name": "stdout",
     "output_type": "stream",
     "text": [
      "A= 43\n",
      "B= 34\n",
      "Subtraction= 9\n"
     ]
    }
   ],
   "source": [
    "a=43\n",
    "b=34\n",
    "sub=a-b\n",
    "print(\"A=\",a)\n",
    "print(\"B=\",b)\n",
    "print(\"Subtraction=\",sub)"
   ]
  },
  {
   "cell_type": "code",
   "execution_count": 45,
   "id": "3de1af24-f3d2-47a5-9d6e-d31bc294129d",
   "metadata": {},
   "outputs": [
    {
     "name": "stdout",
     "output_type": "stream",
     "text": [
      "A= 63\n",
      "B= 97\n",
      "Multiplication= 6111\n"
     ]
    }
   ],
   "source": [
    "a=63\n",
    "b=97\n",
    "mul=a*b\n",
    "print(\"A=\",a)\n",
    "print(\"B=\",b)\n",
    "print(\"Multiplication=\",mul)"
   ]
  },
  {
   "cell_type": "code",
   "execution_count": 53,
   "id": "8928fcec-6f71-4b46-8836-72bc70933587",
   "metadata": {},
   "outputs": [
    {
     "name": "stdout",
     "output_type": "stream",
     "text": [
      "A= 76\n",
      "B= 31\n",
      "Float Division= 2.4516129032258065\n"
     ]
    }
   ],
   "source": [
    "## Float Division\n",
    "a=76\n",
    "b=31\n",
    "div=a/b\n",
    "print(\"A=\",a)\n",
    "print(\"B=\",b)\n",
    "print(\"Float Division=\",div)"
   ]
  },
  {
   "cell_type": "code",
   "execution_count": 55,
   "id": "4c8fc267-f5e1-425c-8c8c-47b98c10e570",
   "metadata": {},
   "outputs": [
    {
     "name": "stdout",
     "output_type": "stream",
     "text": [
      "A= 76\n",
      "B= 31\n",
      "Floor Division= 2\n"
     ]
    }
   ],
   "source": [
    "## Floor Division\n",
    "a=76\n",
    "b=31\n",
    "div=a//b\n",
    "print(\"A=\",a)\n",
    "print(\"B=\",b)\n",
    "print(\"Floor Division=\",div)"
   ]
  },
  {
   "cell_type": "code",
   "execution_count": 57,
   "id": "4bb2dfc4-9457-4794-acc6-27dd8554364b",
   "metadata": {},
   "outputs": [
    {
     "name": "stdout",
     "output_type": "stream",
     "text": [
      "A= 76\n",
      "B= 31\n",
      "Modulo= 14\n"
     ]
    }
   ],
   "source": [
    "## Modulo\n",
    "a=76\n",
    "b=31\n",
    "div=a%b\n",
    "print(\"A=\",a)\n",
    "print(\"B=\",b)\n",
    "print(\"Modulo=\",div)"
   ]
  },
  {
   "cell_type": "code",
   "execution_count": 69,
   "id": "a7a09681-d619-4581-a58f-7d25894a7a15",
   "metadata": {},
   "outputs": [
    {
     "name": "stdout",
     "output_type": "stream",
     "text": [
      "A= 4\n",
      "B= 4\n",
      "Power= 256\n"
     ]
    }
   ],
   "source": [
    "## Power\n",
    "a=4\n",
    "b=4\n",
    "pow=4**4\n",
    "print(\"A=\",a)\n",
    "print(\"B=\",b)\n",
    "print(\"Power=\",pow)"
   ]
  },
  {
   "cell_type": "code",
   "execution_count": null,
   "id": "5d54b9fd-9845-4458-aa48-35a9111e970f",
   "metadata": {},
   "outputs": [],
   "source": []
  }
 ],
 "metadata": {
  "kernelspec": {
   "display_name": "Python 3 (ipykernel)",
   "language": "python",
   "name": "python3"
  },
  "language_info": {
   "codemirror_mode": {
    "name": "ipython",
    "version": 3
   },
   "file_extension": ".py",
   "mimetype": "text/x-python",
   "name": "python",
   "nbconvert_exporter": "python",
   "pygments_lexer": "ipython3",
   "version": "3.11.7"
  }
 },
 "nbformat": 4,
 "nbformat_minor": 5
}
